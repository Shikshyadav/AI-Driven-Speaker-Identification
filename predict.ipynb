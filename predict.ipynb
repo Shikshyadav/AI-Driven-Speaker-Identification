{
 "cells": [
  {
   "cell_type": "code",
   "execution_count": 3,
   "id": "ebc516ec-3cd4-4c51-a36c-e0117c9519df",
   "metadata": {},
   "outputs": [
    {
     "name": "stdout",
     "output_type": "stream",
     "text": [
      "\u001b[1m1/1\u001b[0m \u001b[32m━━━━━━━━━━━━━━━━━━━━\u001b[0m\u001b[37m\u001b[0m \u001b[1m0s\u001b[0m 402ms/step\n",
      "Audio file: 16000_pcm_speeches/Benjamin_Netanyau/3.wav\n",
      "Predicted Speaker: Benjamin_Netanyau\n",
      "Confidence: 0.9996\n"
     ]
    }
   ],
   "source": [
    "import numpy as np\n",
    "from tensorflow.keras.models import load_model\n",
    "import librosa\n",
    "from sklearn.preprocessing import LabelEncoder\n",
    "import os\n",
    "import sys\n",
    "from tensorflow.keras.models import Model\n",
    "\n",
    "# Set the environment variable to disable certain optimizations\n",
    "os.environ['TF_ENABLE_ONEDNN_OPTS'] = '0'\n",
    "\n",
    "# Function to extract MFCC features from an audio file\n",
    "def extract_mfcc(file_path, n_mfcc=13):\n",
    "    audio, sample_rate = librosa.load(file_path, sr=None)\n",
    "    mfccs = librosa.feature.mfcc(y=audio, sr=sample_rate, n_mfcc=n_mfcc)\n",
    "    mfccs_mean = np.mean(mfccs.T, axis=0)\n",
    "    return mfccs_mean\n",
    "\n",
    "# Load the trained model\n",
    "model = load_model(\"cnn_model.h5\", compile=False)\n",
    "\n",
    "# Compile the model with metrics (to suppress the warning)\n",
    "model.compile(optimizer='adam', loss='categorical_crossentropy', metrics=['accuracy'])\n",
    "\n",
    "# Load the label encoder's classes\n",
    "label_classes = np.load('label_encoder_classes.npy', allow_pickle=True)\n",
    "label_encoder = LabelEncoder()\n",
    "label_encoder.classes_ = label_classes\n",
    "\n",
    "# Function to predict the speaker of a given audio file\n",
    "def predict_speaker(file_path, model):\n",
    "    mfcc = extract_mfcc(file_path)\n",
    "    mfcc = mfcc.reshape(1, 13, 1)  # Adjust shape as needed\n",
    "    prediction = model.predict(mfcc)\n",
    "    predicted_label_index = np.argmax(prediction)\n",
    "    predicted_speaker = label_encoder.inverse_transform([predicted_label_index])\n",
    "    return predicted_speaker[0], prediction[0][predicted_label_index]\n",
    "\n",
    "# Main function to handle user input\n",
    "def main(audio_file):\n",
    "    if not os.path.isfile(audio_file):\n",
    "        print(f\"Error: {audio_file} is not a valid file.\")\n",
    "        return\n",
    "\n",
    "    try:\n",
    "        predicted_speaker, confidence = predict_speaker(audio_file, model)\n",
    "        print(f\"Audio file: {audio_file}\")\n",
    "        print(f\"Predicted Speaker: {predicted_speaker}\")\n",
    "        print(f\"Confidence: {confidence:.4f}\")\n",
    "    except Exception as e:\n",
    "        print(f\"An error occurred: {e}\")\n",
    "\n",
    "# If running in a Jupyter Notebook, specify the file path directly\n",
    "audio_file = \"16000_pcm_speeches/Benjamin_Netanyau/3.wav\"  # Replace this with your actual file path\n",
    "main(audio_file)"
   ]
  },
  {
   "cell_type": "code",
   "execution_count": null,
   "id": "794050e3-a52a-48ca-ac7f-4fbdd704dbd1",
   "metadata": {},
   "outputs": [],
   "source": []
  }
 ],
 "metadata": {
  "kernelspec": {
   "display_name": "Python 3 (ipykernel)",
   "language": "python",
   "name": "python3"
  },
  "language_info": {
   "codemirror_mode": {
    "name": "ipython",
    "version": 3
   },
   "file_extension": ".py",
   "mimetype": "text/x-python",
   "name": "python",
   "nbconvert_exporter": "python",
   "pygments_lexer": "ipython3",
   "version": "3.12.7"
  }
 },
 "nbformat": 4,
 "nbformat_minor": 5
}
